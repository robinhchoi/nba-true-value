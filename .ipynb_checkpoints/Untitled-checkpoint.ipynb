{
 "cells": [
  {
   "cell_type": "code",
   "execution_count": 1,
   "metadata": {
    "collapsed": true
   },
   "outputs": [],
   "source": [
    "import nba_py"
   ]
  },
  {
   "cell_type": "code",
   "execution_count": null,
   "metadata": {
    "collapsed": true
   },
   "outputs": [],
   "source": [
    "\"\"\"\n",
    "In today's NBA, cap flexibility is huge. It allows teams to make those moves that get them into true title contention.\n",
    "It allows for sustainable team success. And let's face it, the NBA is a team sport. Sure, you can get by with 2 or 3 really good players.\n",
    "But to go far in today's NBA, you need to be deep.\n",
    "\n",
    "This app is an NBA contracts analysis tool. It finds the players with the best metrics relative to yearly/total contract salary.\n",
    "Metrics include: PER/$MM, PPG/$MM, RPB/$MM, APG/$MM, FG%/$MM, 3FG%/$MM, WS/$MM, etc.\n",
    "My hypothesis is, the team with the most players that rank highest in these metrics is usually the best. \n",
    "They're the deepest.\n",
    "\n",
    "Another feature of this app is the trade recommender.\n",
    "You can input a team's need (i.e. 3 PT. shooting, rim protection, etc.) and it will recommend the player to target that fits within cap.\n",
    "\n",
    "The more data there is, the more need there will be for a tool like this in every front office in the NBA.\n",
    "Today's world is all about collaboration. And to succeed in the NBA, you can't separate the game from the money.\n",
    "You need to make strategic moves with regards to both team success and monetary efficiency.\n",
    "\"\"\""
   ]
  }
 ],
 "metadata": {
  "kernelspec": {
   "display_name": "Python 2",
   "language": "python",
   "name": "python2"
  },
  "language_info": {
   "codemirror_mode": {
    "name": "ipython",
    "version": 2
   },
   "file_extension": ".py",
   "mimetype": "text/x-python",
   "name": "python",
   "nbconvert_exporter": "python",
   "pygments_lexer": "ipython2",
   "version": "2.7.13"
  }
 },
 "nbformat": 4,
 "nbformat_minor": 2
}
