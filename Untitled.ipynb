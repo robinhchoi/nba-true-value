{
 "cells": [
  {
   "cell_type": "code",
   "execution_count": 7,
   "metadata": {
    "collapsed": true
   },
   "outputs": [],
   "source": [
    "import nba_py"
   ]
  },
  {
   "cell_type": "code",
   "execution_count": null,
   "metadata": {
    "collapsed": true
   },
   "outputs": [],
   "source": [
    "\"\"\"\n",
    "In today's NBA, cap flexibility is huge. It allows teams to make those moves that get them into true title contention.\n",
    "It allows for sustainable team success. And let's face it, the NBA is a team sport. Sure, you can get by with 2 or 3 really good players.\n",
    "But to go far in today's NBA, you need to be deep.\n",
    "\n",
    "This app is an NBA contracts analysis tool. It finds the players with the best metrics relative to yearly/total contract salary.\n",
    "Metrics include: PER/$MM, PPG/$MM, RPB/$MM, APG/$MM, FG%/$MM, 3FG%/$MM, WS/$MM, etc.\n",
    "My hypothesis is, the team with the most players that rank highest in these metrics is usually the best. \n",
    "They're the deepest.\n",
    "\n",
    "Another feature of this app is the trade recommender.\n",
    "You can input a team's need (i.e. 3 PT. shooting, rim protection, etc.) and it will recommend the player to target that fits within cap.\n",
    "\n",
    "The more data there is, the more need there will be for a tool like this in every front office in the NBA.\n",
    "Today's world is all about collaboration. And to succeed in the NBA, you can't separate the game from the money.\n",
    "You need to make strategic moves with regards to both team success and monetary efficiency.\n",
    "\"\"\""
   ]
  },
  {
   "cell_type": "code",
   "execution_count": 3,
   "metadata": {
    "collapsed": true
   },
   "outputs": [],
   "source": [
    "scores = nba_py.Scoreboard()"
   ]
  },
  {
   "cell_type": "code",
   "execution_count": 4,
   "metadata": {},
   "outputs": [
    {
     "data": {
      "text/plain": [
       "<nba_py.Scoreboard instance at 0x109f754d0>"
      ]
     },
     "execution_count": 4,
     "metadata": {},
     "output_type": "execute_result"
    }
   ],
   "source": [
    "scores"
   ]
  },
  {
   "cell_type": "code",
   "execution_count": 5,
   "metadata": {},
   "outputs": [
    {
     "name": "stdout",
     "output_type": "stream",
     "text": [
      "<nba_py.Scoreboard instance at 0x109f754d0>\n"
     ]
    }
   ],
   "source": [
    "print scores"
   ]
  },
  {
   "cell_type": "code",
   "execution_count": 8,
   "metadata": {},
   "outputs": [
    {
     "ename": "AttributeError",
     "evalue": "'module' object has no attribute 'player'",
     "output_type": "error",
     "traceback": [
      "\u001b[0;31m---------------------------------------------------------------------------\u001b[0m",
      "\u001b[0;31mAttributeError\u001b[0m                            Traceback (most recent call last)",
      "\u001b[0;32m<ipython-input-8-3923c4027195>\u001b[0m in \u001b[0;36m<module>\u001b[0;34m()\u001b[0m\n\u001b[0;32m----> 1\u001b[0;31m \u001b[0mharden\u001b[0m \u001b[0;34m=\u001b[0m \u001b[0mnba_py\u001b[0m\u001b[0;34m.\u001b[0m\u001b[0mplayer\u001b[0m\u001b[0;34m.\u001b[0m\u001b[0mget_player\u001b[0m\u001b[0;34m(\u001b[0m\u001b[0mJames\u001b[0m\u001b[0;34m,\u001b[0m \u001b[0mHarden\u001b[0m\u001b[0;34m)\u001b[0m\u001b[0;34m\u001b[0m\u001b[0m\n\u001b[0m",
      "\u001b[0;31mAttributeError\u001b[0m: 'module' object has no attribute 'player'"
     ]
    }
   ],
   "source": [
    "harden = nba_py.player.get_player(James, Harden)"
   ]
  },
  {
   "cell_type": "code",
   "execution_count": 9,
   "metadata": {},
   "outputs": [
    {
     "ename": "NameError",
     "evalue": "name 'player' is not defined",
     "output_type": "error",
     "traceback": [
      "\u001b[0;31m---------------------------------------------------------------------------\u001b[0m",
      "\u001b[0;31mNameError\u001b[0m                                 Traceback (most recent call last)",
      "\u001b[0;32m<ipython-input-9-180f37684f40>\u001b[0m in \u001b[0;36m<module>\u001b[0;34m()\u001b[0m\n\u001b[0;32m----> 1\u001b[0;31m \u001b[0mharden\u001b[0m \u001b[0;34m=\u001b[0m \u001b[0mplayer\u001b[0m\u001b[0;34m.\u001b[0m\u001b[0mget_player\u001b[0m\u001b[0;34m(\u001b[0m\u001b[0mJames\u001b[0m\u001b[0;34m,\u001b[0m \u001b[0mHarden\u001b[0m\u001b[0;34m)\u001b[0m\u001b[0;34m\u001b[0m\u001b[0m\n\u001b[0m",
      "\u001b[0;31mNameError\u001b[0m: name 'player' is not defined"
     ]
    }
   ],
   "source": [
    "harden = player.get_player(James, Harden)"
   ]
  },
  {
   "cell_type": "code",
   "execution_count": 10,
   "metadata": {},
   "outputs": [
    {
     "data": {
      "text/plain": [
       "module"
      ]
     },
     "execution_count": 10,
     "metadata": {},
     "output_type": "execute_result"
    }
   ],
   "source": [
    "type(nba_py)"
   ]
  },
  {
   "cell_type": "code",
   "execution_count": 11,
   "metadata": {
    "collapsed": true
   },
   "outputs": [],
   "source": [
    "from nba_py import player"
   ]
  },
  {
   "cell_type": "code",
   "execution_count": 12,
   "metadata": {
    "collapsed": true
   },
   "outputs": [],
   "source": [
    "harden = player.get_player('James', 'Harden')"
   ]
  },
  {
   "cell_type": "code",
   "execution_count": 13,
   "metadata": {},
   "outputs": [
    {
     "data": {
      "text/plain": [
       "1517    201935\n",
       "Name: PERSON_ID, dtype: int64"
      ]
     },
     "execution_count": 13,
     "metadata": {},
     "output_type": "execute_result"
    }
   ],
   "source": [
    "harden"
   ]
  },
  {
   "cell_type": "code",
   "execution_count": 14,
   "metadata": {},
   "outputs": [
    {
     "data": {
      "text/plain": [
       "pandas.core.series.Series"
      ]
     },
     "execution_count": 14,
     "metadata": {},
     "output_type": "execute_result"
    }
   ],
   "source": [
    "type(harden)"
   ]
  },
  {
   "cell_type": "code",
   "execution_count": 15,
   "metadata": {
    "collapsed": true
   },
   "outputs": [],
   "source": [
    "import pandas as pd\n",
    "import numpy as np"
   ]
  },
  {
   "cell_type": "code",
   "execution_count": 16,
   "metadata": {},
   "outputs": [
    {
     "data": {
      "text/plain": [
       "1517    201935\n",
       "Name: PERSON_ID, dtype: int64"
      ]
     },
     "execution_count": 16,
     "metadata": {},
     "output_type": "execute_result"
    }
   ],
   "source": [
    "harden"
   ]
  },
  {
   "cell_type": "code",
   "execution_count": 17,
   "metadata": {},
   "outputs": [
    {
     "name": "stdout",
     "output_type": "stream",
     "text": [
      "1517    201935\n",
      "Name: PERSON_ID, dtype: int64\n"
     ]
    }
   ],
   "source": [
    "print harden"
   ]
  },
  {
   "cell_type": "code",
   "execution_count": 20,
   "metadata": {
    "collapsed": true
   },
   "outputs": [],
   "source": [
    "harden = player.get_player('LeBron', 'James', just_id=False)"
   ]
  },
  {
   "cell_type": "code",
   "execution_count": 21,
   "metadata": {},
   "outputs": [
    {
     "data": {
      "text/html": [
       "<div>\n",
       "<style>\n",
       "    .dataframe thead tr:only-child th {\n",
       "        text-align: right;\n",
       "    }\n",
       "\n",
       "    .dataframe thead th {\n",
       "        text-align: left;\n",
       "    }\n",
       "\n",
       "    .dataframe tbody tr th {\n",
       "        vertical-align: top;\n",
       "    }\n",
       "</style>\n",
       "<table border=\"1\" class=\"dataframe\">\n",
       "  <thead>\n",
       "    <tr style=\"text-align: right;\">\n",
       "      <th></th>\n",
       "      <th>PERSON_ID</th>\n",
       "      <th>DISPLAY_LAST_COMMA_FIRST</th>\n",
       "      <th>DISPLAY_FIRST_LAST</th>\n",
       "      <th>ROSTERSTATUS</th>\n",
       "      <th>FROM_YEAR</th>\n",
       "      <th>TO_YEAR</th>\n",
       "      <th>PLAYERCODE</th>\n",
       "      <th>TEAM_ID</th>\n",
       "      <th>TEAM_CITY</th>\n",
       "      <th>TEAM_NAME</th>\n",
       "      <th>TEAM_ABBREVIATION</th>\n",
       "      <th>TEAM_CODE</th>\n",
       "      <th>GAMES_PLAYED_FLAG</th>\n",
       "    </tr>\n",
       "  </thead>\n",
       "  <tbody>\n",
       "    <tr>\n",
       "      <th>1823</th>\n",
       "      <td>2544</td>\n",
       "      <td>James, LeBron</td>\n",
       "      <td>LeBron James</td>\n",
       "      <td>1</td>\n",
       "      <td>2003</td>\n",
       "      <td>2017</td>\n",
       "      <td>lebron_james</td>\n",
       "      <td>1610612739</td>\n",
       "      <td>Cleveland</td>\n",
       "      <td>Cavaliers</td>\n",
       "      <td>CLE</td>\n",
       "      <td>cavaliers</td>\n",
       "      <td>Y</td>\n",
       "    </tr>\n",
       "  </tbody>\n",
       "</table>\n",
       "</div>"
      ],
      "text/plain": [
       "      PERSON_ID DISPLAY_LAST_COMMA_FIRST DISPLAY_FIRST_LAST  ROSTERSTATUS  \\\n",
       "1823       2544            James, LeBron       LeBron James             1   \n",
       "\n",
       "     FROM_YEAR TO_YEAR    PLAYERCODE     TEAM_ID  TEAM_CITY  TEAM_NAME  \\\n",
       "1823      2003    2017  lebron_james  1610612739  Cleveland  Cavaliers   \n",
       "\n",
       "     TEAM_ABBREVIATION  TEAM_CODE GAMES_PLAYED_FLAG  \n",
       "1823               CLE  cavaliers                 Y  "
      ]
     },
     "execution_count": 21,
     "metadata": {},
     "output_type": "execute_result"
    }
   ],
   "source": [
    "harden"
   ]
  },
  {
   "cell_type": "code",
   "execution_count": 22,
   "metadata": {
    "collapsed": true
   },
   "outputs": [],
   "source": [
    "harden_summary = player.PlayerSummary('2544')"
   ]
  },
  {
   "cell_type": "code",
   "execution_count": 23,
   "metadata": {},
   "outputs": [
    {
     "data": {
      "text/plain": [
       "<nba_py.player.PlayerSummary instance at 0x10d399b90>"
      ]
     },
     "execution_count": 23,
     "metadata": {},
     "output_type": "execute_result"
    }
   ],
   "source": [
    "harden_summary"
   ]
  },
  {
   "cell_type": "code",
   "execution_count": 24,
   "metadata": {},
   "outputs": [
    {
     "name": "stdout",
     "output_type": "stream",
     "text": [
      "<nba_py.player.PlayerSummary instance at 0x10d399b90>\n"
     ]
    }
   ],
   "source": [
    "print harden_summary"
   ]
  },
  {
   "cell_type": "code",
   "execution_count": 25,
   "metadata": {},
   "outputs": [
    {
     "data": {
      "text/plain": [
       "{u'parameters': [{u'PlayerID': 2544}, {u'LeagueID': None}],\n",
       " u'resource': u'commonplayerinfo',\n",
       " u'resultSets': [{u'headers': [u'PERSON_ID',\n",
       "    u'FIRST_NAME',\n",
       "    u'LAST_NAME',\n",
       "    u'DISPLAY_FIRST_LAST',\n",
       "    u'DISPLAY_LAST_COMMA_FIRST',\n",
       "    u'DISPLAY_FI_LAST',\n",
       "    u'BIRTHDATE',\n",
       "    u'SCHOOL',\n",
       "    u'COUNTRY',\n",
       "    u'LAST_AFFILIATION',\n",
       "    u'HEIGHT',\n",
       "    u'WEIGHT',\n",
       "    u'SEASON_EXP',\n",
       "    u'JERSEY',\n",
       "    u'POSITION',\n",
       "    u'ROSTERSTATUS',\n",
       "    u'TEAM_ID',\n",
       "    u'TEAM_NAME',\n",
       "    u'TEAM_ABBREVIATION',\n",
       "    u'TEAM_CODE',\n",
       "    u'TEAM_CITY',\n",
       "    u'PLAYERCODE',\n",
       "    u'FROM_YEAR',\n",
       "    u'TO_YEAR',\n",
       "    u'DLEAGUE_FLAG',\n",
       "    u'GAMES_PLAYED_FLAG',\n",
       "    u'DRAFT_YEAR',\n",
       "    u'DRAFT_ROUND',\n",
       "    u'DRAFT_NUMBER'],\n",
       "   u'name': u'CommonPlayerInfo',\n",
       "   u'rowSet': [[2544,\n",
       "     u'LeBron',\n",
       "     u'James',\n",
       "     u'LeBron James',\n",
       "     u'James, LeBron',\n",
       "     u'L. James',\n",
       "     u'1984-12-30T00:00:00',\n",
       "     u'St. Vincent-St. Mary HS (OH)',\n",
       "     u'USA',\n",
       "     u'St. Vincent-St. Mary HS (OH)/USA',\n",
       "     u'6-8',\n",
       "     u'250',\n",
       "     14,\n",
       "     u'23',\n",
       "     u'Forward',\n",
       "     u'Active',\n",
       "     1610612739,\n",
       "     u'Cavaliers',\n",
       "     u'CLE',\n",
       "     u'cavaliers',\n",
       "     u'Cleveland',\n",
       "     u'lebron_james',\n",
       "     2003,\n",
       "     2017,\n",
       "     u'N',\n",
       "     u'Y',\n",
       "     u'2003',\n",
       "     u'1',\n",
       "     u'1']]},\n",
       "  {u'headers': [u'PLAYER_ID',\n",
       "    u'PLAYER_NAME',\n",
       "    u'TimeFrame',\n",
       "    u'PTS',\n",
       "    u'AST',\n",
       "    u'REB',\n",
       "    u'PIE'],\n",
       "   u'name': u'PlayerHeadlineStats',\n",
       "   u'rowSet': [[2544, u'LeBron James', u'2016-17', 26.4, 8.7, 8.6, 0.183]]},\n",
       "  {u'headers': [u'SEASON_ID'],\n",
       "   u'name': u'AvailableSeasons',\n",
       "   u'rowSet': [[u'12003'],\n",
       "    [u'22003'],\n",
       "    [u'12004'],\n",
       "    [u'22004'],\n",
       "    [u'32004'],\n",
       "    [u'12005'],\n",
       "    [u'22005'],\n",
       "    [u'32005'],\n",
       "    [u'42005'],\n",
       "    [u'12006'],\n",
       "    [u'22006'],\n",
       "    [u'32006'],\n",
       "    [u'42006'],\n",
       "    [u'12007'],\n",
       "    [u'22007'],\n",
       "    [u'32007'],\n",
       "    [u'42007'],\n",
       "    [u'12008'],\n",
       "    [u'22008'],\n",
       "    [u'32008'],\n",
       "    [u'42008'],\n",
       "    [u'12009'],\n",
       "    [u'22009'],\n",
       "    [u'32009'],\n",
       "    [u'42009'],\n",
       "    [u'12010'],\n",
       "    [u'22010'],\n",
       "    [u'32010'],\n",
       "    [u'42010'],\n",
       "    [u'12011'],\n",
       "    [u'22011'],\n",
       "    [u'32011'],\n",
       "    [u'42011'],\n",
       "    [u'12012'],\n",
       "    [u'22012'],\n",
       "    [u'32012'],\n",
       "    [u'42012'],\n",
       "    [u'12013'],\n",
       "    [u'22013'],\n",
       "    [u'32013'],\n",
       "    [u'42013'],\n",
       "    [u'12014'],\n",
       "    [u'22014'],\n",
       "    [u'32014'],\n",
       "    [u'42014'],\n",
       "    [u'12015'],\n",
       "    [u'22015'],\n",
       "    [u'32015'],\n",
       "    [u'42015'],\n",
       "    [u'12016'],\n",
       "    [u'22016'],\n",
       "    [u'32016'],\n",
       "    [u'42016']]}]}"
      ]
     },
     "execution_count": 25,
     "metadata": {},
     "output_type": "execute_result"
    }
   ],
   "source": [
    "harden_summary.json"
   ]
  },
  {
   "cell_type": "code",
   "execution_count": 26,
   "metadata": {},
   "outputs": [
    {
     "data": {
      "text/plain": [
       "<bound method PlayerSummary.info of <nba_py.player.PlayerSummary instance at 0x10d399b90>>"
      ]
     },
     "execution_count": 26,
     "metadata": {},
     "output_type": "execute_result"
    }
   ],
   "source": [
    "harden_summary.info"
   ]
  },
  {
   "cell_type": "code",
   "execution_count": 27,
   "metadata": {},
   "outputs": [
    {
     "data": {
      "text/html": [
       "<div>\n",
       "<style>\n",
       "    .dataframe thead tr:only-child th {\n",
       "        text-align: right;\n",
       "    }\n",
       "\n",
       "    .dataframe thead th {\n",
       "        text-align: left;\n",
       "    }\n",
       "\n",
       "    .dataframe tbody tr th {\n",
       "        vertical-align: top;\n",
       "    }\n",
       "</style>\n",
       "<table border=\"1\" class=\"dataframe\">\n",
       "  <thead>\n",
       "    <tr style=\"text-align: right;\">\n",
       "      <th></th>\n",
       "      <th>PERSON_ID</th>\n",
       "      <th>FIRST_NAME</th>\n",
       "      <th>LAST_NAME</th>\n",
       "      <th>DISPLAY_FIRST_LAST</th>\n",
       "      <th>DISPLAY_LAST_COMMA_FIRST</th>\n",
       "      <th>DISPLAY_FI_LAST</th>\n",
       "      <th>BIRTHDATE</th>\n",
       "      <th>SCHOOL</th>\n",
       "      <th>COUNTRY</th>\n",
       "      <th>LAST_AFFILIATION</th>\n",
       "      <th>...</th>\n",
       "      <th>TEAM_CODE</th>\n",
       "      <th>TEAM_CITY</th>\n",
       "      <th>PLAYERCODE</th>\n",
       "      <th>FROM_YEAR</th>\n",
       "      <th>TO_YEAR</th>\n",
       "      <th>DLEAGUE_FLAG</th>\n",
       "      <th>GAMES_PLAYED_FLAG</th>\n",
       "      <th>DRAFT_YEAR</th>\n",
       "      <th>DRAFT_ROUND</th>\n",
       "      <th>DRAFT_NUMBER</th>\n",
       "    </tr>\n",
       "  </thead>\n",
       "  <tbody>\n",
       "    <tr>\n",
       "      <th>0</th>\n",
       "      <td>2544</td>\n",
       "      <td>LeBron</td>\n",
       "      <td>James</td>\n",
       "      <td>LeBron James</td>\n",
       "      <td>James, LeBron</td>\n",
       "      <td>L. James</td>\n",
       "      <td>1984-12-30T00:00:00</td>\n",
       "      <td>St. Vincent-St. Mary HS (OH)</td>\n",
       "      <td>USA</td>\n",
       "      <td>St. Vincent-St. Mary HS (OH)/USA</td>\n",
       "      <td>...</td>\n",
       "      <td>cavaliers</td>\n",
       "      <td>Cleveland</td>\n",
       "      <td>lebron_james</td>\n",
       "      <td>2003</td>\n",
       "      <td>2017</td>\n",
       "      <td>N</td>\n",
       "      <td>Y</td>\n",
       "      <td>2003</td>\n",
       "      <td>1</td>\n",
       "      <td>1</td>\n",
       "    </tr>\n",
       "  </tbody>\n",
       "</table>\n",
       "<p>1 rows × 29 columns</p>\n",
       "</div>"
      ],
      "text/plain": [
       "   PERSON_ID FIRST_NAME LAST_NAME DISPLAY_FIRST_LAST DISPLAY_LAST_COMMA_FIRST  \\\n",
       "0       2544     LeBron     James       LeBron James            James, LeBron   \n",
       "\n",
       "  DISPLAY_FI_LAST            BIRTHDATE                        SCHOOL COUNTRY  \\\n",
       "0        L. James  1984-12-30T00:00:00  St. Vincent-St. Mary HS (OH)     USA   \n",
       "\n",
       "                   LAST_AFFILIATION     ...       TEAM_CODE  TEAM_CITY  \\\n",
       "0  St. Vincent-St. Mary HS (OH)/USA     ...       cavaliers  Cleveland   \n",
       "\n",
       "     PLAYERCODE FROM_YEAR TO_YEAR DLEAGUE_FLAG  GAMES_PLAYED_FLAG DRAFT_YEAR  \\\n",
       "0  lebron_james      2003    2017            N                  Y       2003   \n",
       "\n",
       "  DRAFT_ROUND DRAFT_NUMBER  \n",
       "0           1            1  \n",
       "\n",
       "[1 rows x 29 columns]"
      ]
     },
     "execution_count": 27,
     "metadata": {},
     "output_type": "execute_result"
    }
   ],
   "source": [
    "harden_summary.info()"
   ]
  },
  {
   "cell_type": "code",
   "execution_count": 28,
   "metadata": {},
   "outputs": [
    {
     "data": {
      "text/html": [
       "<div>\n",
       "<style>\n",
       "    .dataframe thead tr:only-child th {\n",
       "        text-align: right;\n",
       "    }\n",
       "\n",
       "    .dataframe thead th {\n",
       "        text-align: left;\n",
       "    }\n",
       "\n",
       "    .dataframe tbody tr th {\n",
       "        vertical-align: top;\n",
       "    }\n",
       "</style>\n",
       "<table border=\"1\" class=\"dataframe\">\n",
       "  <thead>\n",
       "    <tr style=\"text-align: right;\">\n",
       "      <th></th>\n",
       "      <th>PLAYER_ID</th>\n",
       "      <th>PLAYER_NAME</th>\n",
       "      <th>TimeFrame</th>\n",
       "      <th>PTS</th>\n",
       "      <th>AST</th>\n",
       "      <th>REB</th>\n",
       "      <th>PIE</th>\n",
       "    </tr>\n",
       "  </thead>\n",
       "  <tbody>\n",
       "    <tr>\n",
       "      <th>0</th>\n",
       "      <td>2544</td>\n",
       "      <td>LeBron James</td>\n",
       "      <td>2016-17</td>\n",
       "      <td>26.4</td>\n",
       "      <td>8.7</td>\n",
       "      <td>8.6</td>\n",
       "      <td>0.183</td>\n",
       "    </tr>\n",
       "  </tbody>\n",
       "</table>\n",
       "</div>"
      ],
      "text/plain": [
       "   PLAYER_ID   PLAYER_NAME TimeFrame   PTS  AST  REB    PIE\n",
       "0       2544  LeBron James   2016-17  26.4  8.7  8.6  0.183"
      ]
     },
     "execution_count": 28,
     "metadata": {},
     "output_type": "execute_result"
    }
   ],
   "source": [
    "harden_summary.headline_stats()"
   ]
  },
  {
   "cell_type": "code",
   "execution_count": 1,
   "metadata": {
    "collapsed": true
   },
   "outputs": [],
   "source": [
    "import goldsberry"
   ]
  },
  {
   "cell_type": "code",
   "execution_count": 2,
   "metadata": {},
   "outputs": [
    {
     "data": {
      "text/plain": [
       "module"
      ]
     },
     "execution_count": 2,
     "metadata": {},
     "output_type": "execute_result"
    }
   ],
   "source": [
    "type(goldsberry)"
   ]
  },
  {
   "cell_type": "code",
   "execution_count": null,
   "metadata": {
    "collapsed": true
   },
   "outputs": [],
   "source": []
  }
 ],
 "metadata": {
  "kernelspec": {
   "display_name": "Python 2",
   "language": "python",
   "name": "python2"
  },
  "language_info": {
   "codemirror_mode": {
    "name": "ipython",
    "version": 2
   },
   "file_extension": ".py",
   "mimetype": "text/x-python",
   "name": "python",
   "nbconvert_exporter": "python",
   "pygments_lexer": "ipython2",
   "version": "2.7.13"
  }
 },
 "nbformat": 4,
 "nbformat_minor": 2
}
